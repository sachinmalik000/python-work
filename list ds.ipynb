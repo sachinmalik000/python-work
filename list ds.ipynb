{
 "cells": [
  {
   "cell_type": "code",
   "execution_count": 1,
   "id": "50b9ea52-5586-4266-b8f1-b8ee8086431c",
   "metadata": {},
   "outputs": [],
   "source": [
    "# Key Operations:\n",
    "# - Create: lst = []\n",
    "# - Append: lst.append(x)\n",
    "# - Insert: lst.insert(i, x)\n",
    "# - Delete: del lst[i]\n",
    "# - Pop: lst.pop()"
   ]
  },
  {
   "cell_type": "code",
   "execution_count": 2,
   "id": "1804f66a-0ea4-4498-bf32-d0263c6aa9fc",
   "metadata": {},
   "outputs": [],
   "source": [
    "# create a list"
   ]
  },
  {
   "cell_type": "code",
   "execution_count": 3,
   "id": "5591dbf4-5404-409f-8475-861ec5829db7",
   "metadata": {},
   "outputs": [],
   "source": [
    "lt = []"
   ]
  },
  {
   "cell_type": "code",
   "execution_count": 4,
   "id": "5a792509-d998-4c51-9a35-e9369a1fd73d",
   "metadata": {},
   "outputs": [],
   "source": [
    "lt.append(23)"
   ]
  },
  {
   "cell_type": "code",
   "execution_count": 5,
   "id": "d38b2a27-6ce0-40f4-b924-7601946a6d7a",
   "metadata": {},
   "outputs": [
    {
     "data": {
      "text/plain": [
       "[23]"
      ]
     },
     "execution_count": 5,
     "metadata": {},
     "output_type": "execute_result"
    }
   ],
   "source": [
    "lt"
   ]
  },
  {
   "cell_type": "code",
   "execution_count": 6,
   "id": "06842558-84be-4c86-91d0-ac7993cdceb3",
   "metadata": {},
   "outputs": [],
   "source": [
    "#insert an element"
   ]
  },
  {
   "cell_type": "code",
   "execution_count": 7,
   "id": "9f2a7283-eb6f-4f34-9e26-b5cb67129fab",
   "metadata": {},
   "outputs": [],
   "source": [
    "lt.insert(1,20)"
   ]
  },
  {
   "cell_type": "code",
   "execution_count": 8,
   "id": "2bf4ac16-1e7b-4eec-9bef-be58b0254dd4",
   "metadata": {},
   "outputs": [
    {
     "data": {
      "text/plain": [
       "[23, 20]"
      ]
     },
     "execution_count": 8,
     "metadata": {},
     "output_type": "execute_result"
    }
   ],
   "source": [
    "lt"
   ]
  },
  {
   "cell_type": "code",
   "execution_count": 9,
   "id": "d3fd7b68-fc52-440d-ac14-555ee153c502",
   "metadata": {},
   "outputs": [],
   "source": [
    "# add at 0th pos"
   ]
  },
  {
   "cell_type": "code",
   "execution_count": 10,
   "id": "4b23268b-9fca-4d94-ba08-ce263296c596",
   "metadata": {},
   "outputs": [],
   "source": [
    "lt.insert(0,22)"
   ]
  },
  {
   "cell_type": "code",
   "execution_count": 11,
   "id": "3e66677a-8cdf-4237-9071-ea2495b89b90",
   "metadata": {},
   "outputs": [
    {
     "data": {
      "text/plain": [
       "[22, 23, 20]"
      ]
     },
     "execution_count": 11,
     "metadata": {},
     "output_type": "execute_result"
    }
   ],
   "source": [
    "lt"
   ]
  },
  {
   "cell_type": "code",
   "execution_count": 12,
   "id": "aac4bcc2-40fc-477f-9edf-ba3e5fe6ddc3",
   "metadata": {},
   "outputs": [],
   "source": [
    "#delete"
   ]
  },
  {
   "cell_type": "code",
   "execution_count": 13,
   "id": "796e346b-ba79-426a-8ed7-c0e87feb955a",
   "metadata": {},
   "outputs": [],
   "source": [
    "del lt[0]"
   ]
  },
  {
   "cell_type": "code",
   "execution_count": 14,
   "id": "c6404b9e-d3e9-402b-af84-5d6635a46228",
   "metadata": {},
   "outputs": [
    {
     "data": {
      "text/plain": [
       "[23, 20]"
      ]
     },
     "execution_count": 14,
     "metadata": {},
     "output_type": "execute_result"
    }
   ],
   "source": [
    "lt"
   ]
  },
  {
   "cell_type": "code",
   "execution_count": 15,
   "id": "78795e3e-bac2-425a-9152-536ee7121bfd",
   "metadata": {},
   "outputs": [],
   "source": [
    "# wap to find the second largest number in a list"
   ]
  },
  {
   "cell_type": "code",
   "execution_count": 16,
   "id": "3efae781-d354-4743-8fb3-971807ae4343",
   "metadata": {},
   "outputs": [
    {
     "name": "stdout",
     "output_type": "stream",
     "text": [
      "2nd highest 34\n"
     ]
    }
   ],
   "source": [
    "lst = [9,5,12,10,34,23,45]\n",
    "\n",
    "lst_sort =  sorted(set(lst), reverse = True)\n",
    "\n",
    "if len(lst_sort)>=2:\n",
    "\n",
    "    print(\"2nd highest\", lst_sort[1])\n",
    "else:\n",
    "    print(\"Not a valid input\")"
   ]
  },
  {
   "cell_type": "code",
   "execution_count": 20,
   "id": "55a7556f-b0d2-4aae-b9b7-310ab2a64904",
   "metadata": {},
   "outputs": [
    {
     "data": {
      "text/plain": [
       "10"
      ]
     },
     "execution_count": 20,
     "metadata": {},
     "output_type": "execute_result"
    }
   ],
   "source": [
    "lst.pop()"
   ]
  },
  {
   "cell_type": "code",
   "execution_count": 23,
   "id": "c2ca3bfb-259a-4352-bf6b-b653a9139270",
   "metadata": {},
   "outputs": [
    {
     "data": {
      "text/plain": [
       "[9, 5, 12]"
      ]
     },
     "execution_count": 23,
     "metadata": {},
     "output_type": "execute_result"
    }
   ],
   "source": [
    "lst"
   ]
  },
  {
   "cell_type": "code",
   "execution_count": 24,
   "id": "00e0bcf2-2187-4c5c-851e-09e42fe90b3a",
   "metadata": {},
   "outputs": [
    {
     "data": {
      "text/plain": [
       "12"
      ]
     },
     "execution_count": 24,
     "metadata": {},
     "output_type": "execute_result"
    }
   ],
   "source": [
    "lst.pop()"
   ]
  },
  {
   "cell_type": "code",
   "execution_count": 27,
   "id": "be6709c1-bb1e-4457-818e-dd6260fc1d42",
   "metadata": {},
   "outputs": [
    {
     "data": {
      "text/plain": [
       "[9]"
      ]
     },
     "execution_count": 27,
     "metadata": {},
     "output_type": "execute_result"
    }
   ],
   "source": [
    "lst"
   ]
  },
  {
   "cell_type": "code",
   "execution_count": 28,
   "id": "6de40a92-0c16-4ac3-bcc5-7fbc98284730",
   "metadata": {},
   "outputs": [
    {
     "data": {
      "text/plain": [
       "9"
      ]
     },
     "execution_count": 28,
     "metadata": {},
     "output_type": "execute_result"
    }
   ],
   "source": [
    "lst.pop()"
   ]
  },
  {
   "cell_type": "code",
   "execution_count": 29,
   "id": "cf5630f3-adf6-44ff-b6d7-e27ac947d655",
   "metadata": {},
   "outputs": [
    {
     "data": {
      "text/plain": [
       "[]"
      ]
     },
     "execution_count": 29,
     "metadata": {},
     "output_type": "execute_result"
    }
   ],
   "source": [
    "lst"
   ]
  },
  {
   "cell_type": "code",
   "execution_count": null,
   "id": "be99a1eb-91fd-4b8a-83f8-7bba9d40a3ee",
   "metadata": {},
   "outputs": [],
   "source": []
  }
 ],
 "metadata": {
  "kernelspec": {
   "display_name": "Python 3 (ipykernel)",
   "language": "python",
   "name": "python3"
  },
  "language_info": {
   "codemirror_mode": {
    "name": "ipython",
    "version": 3
   },
   "file_extension": ".py",
   "mimetype": "text/x-python",
   "name": "python",
   "nbconvert_exporter": "python",
   "pygments_lexer": "ipython3",
   "version": "3.13.0"
  }
 },
 "nbformat": 4,
 "nbformat_minor": 5
}
